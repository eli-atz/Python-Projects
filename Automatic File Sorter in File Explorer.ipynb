{
 "cells": [
  {
   "cell_type": "markdown",
   "id": "35f5ed54",
   "metadata": {},
   "source": [
    "# Automatic File Sorter in File Explorer"
   ]
  },
  {
   "cell_type": "code",
   "execution_count": 1,
   "id": "278fb2b3",
   "metadata": {},
   "outputs": [],
   "source": [
    "import os\n",
    "import shutil"
   ]
  },
  {
   "cell_type": "code",
   "execution_count": null,
   "id": "8b20af47",
   "metadata": {},
   "outputs": [],
   "source": [
    "# Get the path from user input\n",
    "path = input(\"Enter the path where files are located: \")\n",
    "\n",
    "# Get the list of file names in the specified path\n",
    "file_name = os.listdir(path)\n",
    "\n",
    "# List of folder names to be created\n",
    "folder_names = ['csv files', 'image files', 'text files']"
   ]
  },
  {
   "cell_type": "code",
   "execution_count": null,
   "id": "a5c82603",
   "metadata": {},
   "outputs": [],
   "source": [
    "# Loop through the folder names and create folders if they don't exist\n",
    "for folder_name in folder_names:\n",
    "    folder_path = os.path.join(path, folder_name)\n",
    "    if not os.path.exists(folder_path):\n",
    "        print(folder_path)\n",
    "        os.makedirs(folder_path)"
   ]
  },
  {
   "cell_type": "code",
   "execution_count": null,
   "id": "e412c126",
   "metadata": {},
   "outputs": [],
   "source": [
    "# Loop through each file in the file_name list\n",
    "for file in file_name:\n",
    "    # Move CSV files to the \"csv files\" folder\n",
    "    if \".csv\" in file and not os.path.exists(os.path.join(path, \"csv files\", file)):\n",
    "        shutil.move(os.path.join(path, file), os.path.join(path, \"csv files\", file))\n",
    "    # Move PNG files to the \"image files\" folder\n",
    "    elif \".png\" in file and not os.path.exists(os.path.join(path, \"image files\", file)):\n",
    "        shutil.move(os.path.join(path, file), os.path.join(path, \"image files\", file))\n",
    "    # Move TXT files to the \"text files\" folder\n",
    "    elif \".txt\" in file and not os.path.exists(os.path.join(path, \"text files\", file)):\n",
    "        shutil.move(os.path.join(path, file), os.path.join(path, \"text files\", file))\n",
    "else:\n",
    "     # Print a message for files that were not moved\n",
    "    print(\"There are files in this path that were not moved!\")"
   ]
  }
 ],
 "metadata": {
  "kernelspec": {
   "display_name": "Python 3 (ipykernel)",
   "language": "python",
   "name": "python3"
  },
  "language_info": {
   "codemirror_mode": {
    "name": "ipython",
    "version": 3
   },
   "file_extension": ".py",
   "mimetype": "text/x-python",
   "name": "python",
   "nbconvert_exporter": "python",
   "pygments_lexer": "ipython3",
   "version": "3.11.5"
  }
 },
 "nbformat": 4,
 "nbformat_minor": 5
}
