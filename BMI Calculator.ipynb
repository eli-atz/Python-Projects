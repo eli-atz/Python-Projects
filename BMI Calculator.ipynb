{
 "cells": [
  {
   "cell_type": "markdown",
   "id": "45761f26",
   "metadata": {},
   "source": [
    "# BMI Calculator"
   ]
  },
  {
   "cell_type": "code",
   "execution_count": null,
   "id": "010a2179",
   "metadata": {},
   "outputs": [],
   "source": [
    "# Prompt the user to enter their name\n",
    "name = input(\"Enter your name: \")\n",
    "\n",
    "# Prompt the user to enter their weight in kilograms and convert it to an integer\n",
    "weight = int(input(\"Enter your weight in kg: \"))\n",
    "\n",
    "# Prompt the user to enter their height in meters and convert it to a float\n",
    "height = float(input(\"Enter your height in m: \"))\n",
    "\n",
    "# Calculate BMI using the provided formula\n",
    "BMI = weight / (height * height)\n",
    "\n",
    "# Print the calculated BMI\n",
    "print(BMI)"
   ]
  },
  {
   "cell_type": "code",
   "execution_count": null,
   "id": "65287657",
   "metadata": {},
   "outputs": [],
   "source": [
    "# Check if BMI is a valid positive value\n",
    "if BMI > 0:\n",
    "    # Check BMI categories and print the corresponding message\n",
    "    if BMI < 18.5:\n",
    "        print(name + \", you're underweight.\")\n",
    "    elif 18.5 <= BMI <= 24.5:\n",
    "        print(name + \", you're normal weight.\")\n",
    "    elif 24.5 < BMI <= 29.5:\n",
    "        print(name + \", you're overweight.\")\n",
    "    elif 29.5 < BMI <= 34.5:\n",
    "        print(name + \", you're obese.\")\n",
    "    elif 34.5 < BMI <= 39.5:\n",
    "        print(name + \", you're severely obese.\")\n",
    "    else:\n",
    "        print(name + \", you're morbidly obese.\")\n",
    "else:\n",
    "    # Print an error message for invalid input\n",
    "    print(\"Enter a valid input!\")"
   ]
  }
 ],
 "metadata": {
  "kernelspec": {
   "display_name": "Python 3 (ipykernel)",
   "language": "python",
   "name": "python3"
  },
  "language_info": {
   "codemirror_mode": {
    "name": "ipython",
    "version": 3
   },
   "file_extension": ".py",
   "mimetype": "text/x-python",
   "name": "python",
   "nbconvert_exporter": "python",
   "pygments_lexer": "ipython3",
   "version": "3.11.5"
  }
 },
 "nbformat": 4,
 "nbformat_minor": 5
}
